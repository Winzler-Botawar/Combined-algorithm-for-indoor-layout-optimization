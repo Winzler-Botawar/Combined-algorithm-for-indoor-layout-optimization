{
 "cells": [
  {
   "cell_type": "code",
   "execution_count": 25,
   "metadata": {},
   "outputs": [
    {
     "name": "stdout",
     "output_type": "stream",
     "text": [
      "20\n"
     ]
    }
   ],
   "source": [
    "room_1 =room_2 = 20\n",
    "print(room_1)"
   ]
  },
  {
   "cell_type": "code",
   "execution_count": 2,
   "metadata": {},
   "outputs": [
    {
     "data": {
      "text/plain": [
       "(1.0, 2.0)"
      ]
     },
     "execution_count": 2,
     "metadata": {},
     "output_type": "execute_result"
    }
   ],
   "source": [
    "from turtle import shape\n",
    "import shapely.geometry as geo\n",
    "from mathutils import Vector\n",
    "x = geo.MultiPoint([(1, 4), (1, 2), (4, 4), (4, 2)]).convex_hull\n",
    "x.exterior.coords[0]\n",
    "\n"
   ]
  },
  {
   "cell_type": "code",
   "execution_count": 44,
   "metadata": {},
   "outputs": [
    {
     "name": "stdout",
     "output_type": "stream",
     "text": [
      "MULTIPOLYGON (((1 2, 2 1, 3 4, 4 3, 1 2)))\n"
     ]
    },
    {
     "name": "stderr",
     "output_type": "stream",
     "text": [
      "C:\\Users\\kilok\\AppData\\Roaming\\Python\\Python37\\site-packages\\ipykernel_launcher.py:6: ShapelyDeprecationWarning: The proxy geometries (through the 'asShape()', 'asMultiPolygon()' or 'MultiPolygonAdapter()' constructors) are deprecated and will be removed in Shapely 2.0. Use the 'shape()' function or the standard 'MultiPolygon()' constructor instead.\n",
      "  \n"
     ]
    }
   ],
   "source": [
    "\n",
    "point = geo.Point(1, 2)\n",
    "\n",
    "\n",
    "poly_context = {'type': 'MULTIPOLYGON',\n",
    "    'coordinates': [[[[1, 2], [2, 1], [3, 4], [4, 3]]]]}\n",
    "poly_shape = geo.asShape(poly_context)\n",
    "print(poly_shape)"
   ]
  },
  {
   "cell_type": "markdown",
   "metadata": {},
   "source": [
    "two different ways to create polygon. we use first one which is unordered."
   ]
  },
  {
   "cell_type": "code",
   "execution_count": 16,
   "metadata": {},
   "outputs": [
    {
     "name": "stdout",
     "output_type": "stream",
     "text": [
      "[(1, 2, 4), (4, 7, 2)]\n"
     ]
    }
   ],
   "source": [
    "pointlist = [(1,2,4), (4,2,0),(4,7,2),(6,4,0)]\n",
    "list = [pointlist[x] for x in range(len(pointlist)) if pointlist[x][2] != 0]\n",
    "print(list)"
   ]
  },
  {
   "cell_type": "code",
   "execution_count": 6,
   "metadata": {},
   "outputs": [
    {
     "name": "stdout",
     "output_type": "stream",
     "text": [
      "<class 'shapely.geometry.polygon.Polygon'>\n"
     ]
    }
   ],
   "source": [
    "import shapely\n",
    "\n",
    "triangle = geo.Polygon([(1, 1), (2, 3), (3, 1)])\n",
    "triangle\n",
    "triangle_a = shapely.affinity.scale(triangle, xfact=1.5, yfact=1.5)\n",
    "print(type(triangle_a))"
   ]
  },
  {
   "cell_type": "code",
   "execution_count": 56,
   "metadata": {},
   "outputs": [
    {
     "data": {
      "text/plain": [
       "[(1.0, 1.0), (3.0, 3.0), (5.0, 1.0), (1.0, 1.0)]"
      ]
     },
     "execution_count": 56,
     "metadata": {},
     "output_type": "execute_result"
    },
    {
     "ename": "",
     "evalue": "",
     "output_type": "error",
     "traceback": [
      "\u001b[1;31mThe Kernel crashed while executing code in the the current cell or a previous cell. Please review the code in the cell(s) to identify a possible cause of the failure. Click <a href='https://aka.ms/vscodeJupyterKernelCrash'>here</a> for more info. View Jupyter <a href='command:jupyter.viewOutput'>log</a> for further details."
     ]
    }
   ],
   "source": [
    "x = geo.Polygon([(1, 1), (2, 3), (3, 1)])\n",
    "\n",
    "b = shapely.affinity.scale(x, xfact=2, origin=(1,1))\n",
    "b.exterior.coords[:]"
   ]
  },
  {
   "cell_type": "code",
   "execution_count": 1,
   "metadata": {},
   "outputs": [
    {
     "name": "stdout",
     "output_type": "stream",
     "text": [
      "None\n"
     ]
    }
   ],
   "source": [
    "from mathutils import Vector\n",
    "\n",
    "a = Vector((1,2,3))\n",
    "b = Vector((4,3,2))\n",
    "print(a.angle(b))\n",
    "# not right, output should be 0.6...."
   ]
  },
  {
   "cell_type": "code",
   "execution_count": 7,
   "metadata": {},
   "outputs": [
    {
     "name": "stdout",
     "output_type": "stream",
     "text": [
      "<class 'shapely.geometry.polygon.Polygon'>\n"
     ]
    }
   ],
   "source": [
    "\n",
    "verts = [(1,2,0.05),(3,2,0.4),(7,4,0.1),(6,5,2)]\n",
    "# in fact it should be verts = [(1,2),(3,2),(7,4),(6,5)]\n",
    "a = geo.MultiPoint(verts).convex_hull\n",
    "print(type(a))"
   ]
  },
  {
   "cell_type": "code",
   "execution_count": 2,
   "metadata": {},
   "outputs": [
    {
     "data": {
      "text/plain": [
       "array([ -1.45531314, -21.52186839])"
      ]
     },
     "execution_count": 2,
     "metadata": {},
     "output_type": "execute_result"
    }
   ],
   "source": [
    "import numpy as np\n",
    "np.random.normal(0, 10, 2)"
   ]
  },
  {
   "cell_type": "code",
   "execution_count": 9,
   "metadata": {},
   "outputs": [
    {
     "data": {
      "text/plain": [
       "array([ 0.        ,  0.40816327,  0.81632653,  1.2244898 ,  1.63265306,\n",
       "        2.04081633,  2.44897959,  2.85714286,  3.26530612,  3.67346939,\n",
       "        4.08163265,  4.48979592,  4.89795918,  5.30612245,  5.71428571,\n",
       "        6.12244898,  6.53061224,  6.93877551,  7.34693878,  7.75510204,\n",
       "        8.16326531,  8.57142857,  8.97959184,  9.3877551 ,  9.79591837,\n",
       "       10.20408163, 10.6122449 , 11.02040816, 11.42857143, 11.83673469,\n",
       "       12.24489796, 12.65306122, 13.06122449, 13.46938776, 13.87755102,\n",
       "       14.28571429, 14.69387755, 15.10204082, 15.51020408, 15.91836735,\n",
       "       16.32653061, 16.73469388, 17.14285714, 17.55102041, 17.95918367,\n",
       "       18.36734694, 18.7755102 , 19.18367347, 19.59183673, 20.        ])"
      ]
     },
     "execution_count": 9,
     "metadata": {},
     "output_type": "execute_result"
    }
   ],
   "source": [
    "step_x, step_y = (50, 50)\n",
    "width = 20\n",
    "length = 20\n",
    "\n",
    "x = np.linspace(0, width, step_x)\n",
    "y = np.linspace(0, length, step_y)\n",
    "\n",
    "X, Y = np.meshgrid(x, y)\n",
    "X\n"
   ]
  },
  {
   "cell_type": "code",
   "execution_count": 19,
   "metadata": {},
   "outputs": [
    {
     "data": {
      "text/plain": [
       "25.0"
      ]
     },
     "execution_count": 19,
     "metadata": {},
     "output_type": "execute_result"
    }
   ],
   "source": [
    "step_x/2"
   ]
  },
  {
   "cell_type": "code",
   "execution_count": 14,
   "metadata": {},
   "outputs": [
    {
     "name": "stdout",
     "output_type": "stream",
     "text": [
      "7\n",
      "2\n"
     ]
    }
   ],
   "source": [
    "def a():\n",
    "    x = 7\n",
    "    y = 2\n",
    "    return x, y\n",
    "a, b = a()\n",
    "print(a)\n",
    "print(b)"
   ]
  },
  {
   "cell_type": "code",
   "execution_count": 9,
   "metadata": {},
   "outputs": [
    {
     "data": {
      "text/plain": [
       "[<matplotlib.lines.Line2D at 0x1b57a727648>,\n",
       " <matplotlib.lines.Line2D at 0x1b57a71c288>,\n",
       " <matplotlib.lines.Line2D at 0x1b5784559c8>,\n",
       " <matplotlib.lines.Line2D at 0x1b578455908>,\n",
       " <matplotlib.lines.Line2D at 0x1b578455548>,\n",
       " <matplotlib.lines.Line2D at 0x1b578455b48>,\n",
       " <matplotlib.lines.Line2D at 0x1b57845b1c8>,\n",
       " <matplotlib.lines.Line2D at 0x1b57845bb08>,\n",
       " <matplotlib.lines.Line2D at 0x1b57845b908>,\n",
       " <matplotlib.lines.Line2D at 0x1b578455e88>,\n",
       " <matplotlib.lines.Line2D at 0x1b57845b348>,\n",
       " <matplotlib.lines.Line2D at 0x1b57845b248>,\n",
       " <matplotlib.lines.Line2D at 0x1b57845b508>,\n",
       " <matplotlib.lines.Line2D at 0x1b57845b0c8>,\n",
       " <matplotlib.lines.Line2D at 0x1b577e09c08>,\n",
       " <matplotlib.lines.Line2D at 0x1b577e09c48>,\n",
       " <matplotlib.lines.Line2D at 0x1b5783d50c8>,\n",
       " <matplotlib.lines.Line2D at 0x1b578408e88>,\n",
       " <matplotlib.lines.Line2D at 0x1b578408ac8>,\n",
       " <matplotlib.lines.Line2D at 0x1b5784080c8>,\n",
       " <matplotlib.lines.Line2D at 0x1b578408088>,\n",
       " <matplotlib.lines.Line2D at 0x1b578408b08>,\n",
       " <matplotlib.lines.Line2D at 0x1b578408688>,\n",
       " <matplotlib.lines.Line2D at 0x1b578408308>,\n",
       " <matplotlib.lines.Line2D at 0x1b578405988>,\n",
       " <matplotlib.lines.Line2D at 0x1b578405788>,\n",
       " <matplotlib.lines.Line2D at 0x1b578405cc8>,\n",
       " <matplotlib.lines.Line2D at 0x1b578405508>,\n",
       " <matplotlib.lines.Line2D at 0x1b578405b48>,\n",
       " <matplotlib.lines.Line2D at 0x1b578405088>,\n",
       " <matplotlib.lines.Line2D at 0x1b5784058c8>,\n",
       " <matplotlib.lines.Line2D at 0x1b5783fb888>,\n",
       " <matplotlib.lines.Line2D at 0x1b5783fb348>,\n",
       " <matplotlib.lines.Line2D at 0x1b5783fb708>,\n",
       " <matplotlib.lines.Line2D at 0x1b5783fb248>,\n",
       " <matplotlib.lines.Line2D at 0x1b5783fbe08>,\n",
       " <matplotlib.lines.Line2D at 0x1b5783fbf08>,\n",
       " <matplotlib.lines.Line2D at 0x1b5783fbe48>,\n",
       " <matplotlib.lines.Line2D at 0x1b57833e708>,\n",
       " <matplotlib.lines.Line2D at 0x1b57817c8c8>,\n",
       " <matplotlib.lines.Line2D at 0x1b5783d7a88>,\n",
       " <matplotlib.lines.Line2D at 0x1b5783d7d88>,\n",
       " <matplotlib.lines.Line2D at 0x1b578479548>,\n",
       " <matplotlib.lines.Line2D at 0x1b5784798c8>,\n",
       " <matplotlib.lines.Line2D at 0x1b578479948>,\n",
       " <matplotlib.lines.Line2D at 0x1b578479588>,\n",
       " <matplotlib.lines.Line2D at 0x1b57a7fa888>,\n",
       " <matplotlib.lines.Line2D at 0x1b578479f88>,\n",
       " <matplotlib.lines.Line2D at 0x1b578479dc8>,\n",
       " <matplotlib.lines.Line2D at 0x1b5784799c8>]"
      ]
     },
     "execution_count": 9,
     "metadata": {},
     "output_type": "execute_result"
    },
    {
     "data": {
      "image/png": "[encoded data removed]",
      "text/plain": [
       "<Figure size 432x288 with 1 Axes>"
      ]
     },
     "metadata": {},
     "output_type": "display_data"
    }
   ],
   "source": [
    "import matplotlib.pyplot as plt\n",
    "%matplotlib inline\n",
    "plt.style.use('ggplot')\n",
    "plt.plot(X, Y, marker='.', color='blue')"
   ]
  },
  {
   "cell_type": "code",
   "execution_count": 29,
   "metadata": {},
   "outputs": [
    {
     "data": {
      "text/plain": [
       "array([[0.77154831, 0.77106854, 0.7705958 , ..., 0.78397699, 0.78515305,\n",
       "        0.78634105],\n",
       "       [0.77038586, 0.76987686, 0.76937411, ..., 0.7822855 , 0.78348037,\n",
       "        0.78468708],\n",
       "       [0.76923589, 0.7686974 , 0.76816435, ..., 0.78060871, 0.78182296,\n",
       "        0.78304886],\n",
       "       ...,\n",
       "       [0.75101783, 0.75025277, 0.74948776, ..., 0.75123194, 0.75235461,\n",
       "        0.75348478],\n",
       "       [0.75136949, 0.75062335, 0.74987784, ..., 0.75162529, 0.75272291,\n",
       "        0.75382825],\n",
       "       [0.75173762, 0.75101039, 0.75028432, ..., 0.75204371, 0.7531159 ,\n",
       "        0.75419608]])"
      ]
     },
     "execution_count": 29,
     "metadata": {},
     "output_type": "execute_result"
    }
   ],
   "source": [
    "import math\n",
    "\n",
    "energy_matrix = np.zeros(shape=(step_x, step_y))\n",
    "def distance(point_1, point_2):\n",
    "    \"\"\"\n",
    "    Description: give two points return their distance\n",
    "\n",
    "    param: point_i: [x, y]\n",
    "    \"\"\"\n",
    "    dis = math.sqrt(math.pow(point_2[0]-point_1[0], 2) + math.pow(point_2[1]-point_1[1], 2))\n",
    "\n",
    "    return dis\n",
    "center = [X[int(step_x/2)][int(step_y/2)], Y[int(step_x/2)][int(step_y/2)]]\n",
    "door = [12, 0]\n",
    "window = [37, 50]\n",
    "for i in range(0, step_x, 1):\n",
    "        for j in range(0, step_y, 1):\n",
    "            d_1 = distance(door, [X[i][j], Y[i][j]])\n",
    "            d_2 = distance(center, [X[i][j], Y[i][j]])\n",
    "            d_3 = distance(window, [X[i][j], Y[i][j]])\n",
    "            D_mean = 0.1 * d_1 + 0.3 * d_2 + 0.6 * d_3\n",
    "            D_var = math.sqrt(math.pow(D_mean - 0.1*d_1, 2) + math.pow(D_mean - 0.3*d_2, 2) + math.pow(D_mean - 0.6*d_3, 2))\n",
    "\n",
    "            energy_matrix[step_x - i - 1, j] = D_mean/D_var\n",
    "\n",
    "energy_matrix\n",
    "\n",
    "\n"
   ]
  },
  {
   "cell_type": "code",
   "execution_count": 11,
   "metadata": {},
   "outputs": [
    {
     "name": "stdout",
     "output_type": "stream",
     "text": [
      "<class 'shapely.geometry.polygon.Polygon'>\n"
     ]
    }
   ],
   "source": [
    "a = [(1,2),(3,4),(5,7)]\n",
    "b = shapely.affinity.scale(shapely.geometry.MultiPoint(a).convex_hull, xfact = 1.2, yfact = 1.2)\n",
    "print(type(b))"
   ]
  },
  {
   "cell_type": "code",
   "execution_count": 47,
   "metadata": {},
   "outputs": [
    {
     "data": {
      "text/plain": [
       "3"
      ]
     },
     "execution_count": 47,
     "metadata": {},
     "output_type": "execute_result"
    }
   ],
   "source": [
    "import numpy as np\n",
    "\n",
    "np.random.normal(0, 16, 1)\n",
    "\n",
    "name = 'acb_dfe_acew'\n",
    "len(name.split(\"_\"))"
   ]
  }
 ],
 "metadata": {
  "kernelspec": {
   "display_name": "Python 3.7.8 64-bit",
   "language": "python",
   "name": "python3"
  },
  "language_info": {
   "codemirror_mode": {
    "name": "ipython",
    "version": 3
   },
   "file_extension": ".py",
   "mimetype": "text/x-python",
   "name": "python",
   "nbconvert_exporter": "python",
   "pygments_lexer": "ipython3",
   "version": "3.7.8"
  },
  "orig_nbformat": 4,
  "vscode": {
   "interpreter": {
    "hash": "0a54084e6b208ee8d1ce3989ffc20924477a5f55f5a43e22e699a6741623861e"
   }
  }
 },
 "nbformat": 4,
 "nbformat_minor": 2
}
